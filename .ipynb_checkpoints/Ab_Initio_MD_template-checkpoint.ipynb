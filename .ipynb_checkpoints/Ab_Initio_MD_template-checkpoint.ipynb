{
 "cells": [
  {
   "cell_type": "markdown",
   "metadata": {},
   "source": [
    "# *Ab* *initio* molecular dynamics of the vibrational motion of HF\n",
    "\n",
    "### Part 1:  Generation of *ab* *initio* potential energy surfaces (PES)\n",
    "We are going to construct what is often referred to as an *ab* *initio* potential energy surface of the diatomic\n",
    "molecule hydrogen fluoride.  That is, we are going to use various electronic structure theories (Hartree-Fock theory (RHF), 2nd-order perturbation theory (MP2), and Coupled Cluster theory with single and double substitutions (CCSD)) to compute the electronic energy at different geometries of a simple diatomic molecule.  The same basis set (correlation consistent polarized triple-zeta, cc-pVTZ) will be used for all calculations.  We will use Psi4numpy to facilitate the electronic structure calculations, and then the interpolation capabilities of scipy to simplify the evalution of the potential energy at separations for which we did not explicitly evaluate the electronic energy.  We will also use scipy to differentiate the interpolated potential energy surface to obtain the forces acting on the atoms at different separations.  \n",
    "\n",
    "We will start by importing the necessary libraries:"
   ]
  },
  {
   "cell_type": "code",
   "execution_count": 36,
   "metadata": {},
   "outputs": [],
   "source": [
    "import numpy as np\n",
    "import psi4\n",
    "from matplotlib import pyplot as plt\n",
    "from scipy.interpolate import InterpolatedUnivariateSpline"
   ]
  },
  {
   "cell_type": "markdown",
   "metadata": {},
   "source": [
    "We will use a template for the z-matrix which will allow us to automate the\n",
    "specification of the bond length of our HF molecule for easy computation of our potential\n",
    "energy surface."
   ]
  },
  {
   "cell_type": "code",
   "execution_count": 37,
   "metadata": {},
   "outputs": [],
   "source": [
    "### template for the z-matrix\n",
    "mol_tmpl = \"\"\"H\n",
    "F 1 **R**\"\"\" #change f to Cl"
   ]
  },
  {
   "cell_type": "markdown",
   "metadata": {},
   "source": [
    "Now let's create arrays for the bond length and energies at each bond length\n",
    "for three different levels of theory (RHF, MP2, and CCSD).  Let's have our bond lengths\n",
    "spane 0.5 - 2.25 $\\overset{\\circ}{A}$; note that should use finer resolution for short bondlengths than our longer bondlengths because we want to be sure we accurately represent the minimum energy point on the PES!"
   ]
  },
  {
   "cell_type": "code",
   "execution_count": 38,
   "metadata": {},
   "outputs": [
    {
     "name": "stdout",
     "output_type": "stream",
     "text": [
      "22\n"
     ]
    }
   ],
   "source": [
    "''' create arrays in this cell! '''\n",
    "### We will probably forget about the molecules array, so let's have it pre-declared!\n",
    "molecules = []\n",
    "\n",
    "#make a list here\n",
    "r_array = [0.5,0.55,0.57, 0.6, 0.65, 0.67, 0.7, 0.75, 0.77, 0.8, 0.85, 0.87, 0.9, 0.95, 0.97, 1.0, 1.5, 1.7, 2.00, 2.1, 2.2, 2.25]\n",
    "print(len(r_array))\n",
    "RHF_E_array = []\n",
    "MP2_E_array = []\n",
    "CCSD_E_array = []"
   ]
  },
  {
   "cell_type": "markdown",
   "metadata": {},
   "source": [
    "Now we will loop over the elements of our r_array, compute the energies at each level of theory for all bond lengths, and store them in their respective arrays."
   ]
  },
  {
   "cell_type": "code",
   "execution_count": 39,
   "metadata": {},
   "outputs": [],
   "source": [
    "### loop over the different bond-lengths, create different instances\n",
    "### of HF molecule\n",
    "for r in r_array:\n",
    "    molecule = psi4.geometry(mol_tmpl.replace(\"**R**\", str(r)))\n",
    "    molecules.append(molecule)\n",
    "    \n",
    "### loop over instances of molecules, compute the RHF, MP2, and CCSD\n",
    "### energies and store them in their respective arrays\n",
    "for mol in molecules:\n",
    "    energy = psi4.energy(\"SCF/cc-pVTZ\", molecule=mol)\n",
    "    RHF_E_array.append(energy)\n",
    "    energy = psi4.energy(\"MP2/cc-pVTZ\", molecule=mol)\n",
    "    MP2_E_array.append(energy)\n",
    "    energy = psi4.energy(\"CCSD/cc-pVTZ\",molecule=mol)\n",
    "    CCSD_E_array.append(energy)\n"
   ]
  },
  {
   "cell_type": "code",
   "execution_count": 40,
   "metadata": {},
   "outputs": [
    {
     "data": {
      "image/png": "[encoded data removed]",
      "text/plain": [
       "<Figure size 432x288 with 1 Axes>"
      ]
     },
     "metadata": {
      "needs_background": "light"
     },
     "output_type": "display_data"
    }
   ],
   "source": [
    "plt.plot(r_array, RHF_E_array, '--r*', label='RHF')\n",
    "plt.plot(r_array, MP2_E_array, '--b*', label='MP2')\n",
    "plt.plot(r_array, CCSD_E_array, '--y*', label='CCSD')\n",
    "plt.xlabel('Bond Length (Angstroms)')\n",
    "plt.ylabel('Energy (Hartree)')\n",
    "plt.legend()\n",
    "plt.show()"
   ]
  },
  {
   "cell_type": "markdown",
   "metadata": {},
   "source": [
    "Now that you have the raw data, we will interpolate this data using cubic splines.  This will permit us to \n",
    "estimate the potential energy at any arbitrary separation between 0.5 and 2.25 Angstroms.\n",
    "\n",
    "The general syntax for creating a cubic spline object is as follows:\n",
    "\n",
    "`spline = InterpolatedUnivariateSpline(x-data, y-data, k=3)`\n",
    "\n",
    "#### Note on units\n",
    "The energies we obtained from psi4 are in Hartrees, which are the atomic unit of energy.  We have so far been specifying our separation in Angstroms (**not the atomic unit of length**) so we are in a mixed unit system.  When we generate our spline, we will use an array of bond lengths in atomic units as the x-data and the energies in atomic units as the y-data, which will yield a PES purely in atomic units.  Therefore, the first thing we will do before creating the spline is to create an array of bond lengths in atomic units (~1.89 * bond lengths in Angstroms is the bond length in atomic units); we will then create three cubic splines (RHF_E_Spline, MP2_E_Spline, CCSD_E_SPline) that hold the PES data in atomic units for the three levels of theory.\n",
    "\n"
   ]
  },
  {
   "cell_type": "code",
   "execution_count": 41,
   "metadata": {},
   "outputs": [
    {
     "name": "stdout",
     "output_type": "stream",
     "text": [
      "[0.945, 1.0395, 1.0773, 1.134, 1.2285, 1.2663, 1.323, 1.4175, 1.4553, 1.512, 1.6064999999999998, 1.6442999999999999, 1.7009999999999998, 1.7954999999999999, 1.8333, 1.89, 2.835, 3.2129999999999996, 3.78, 3.969, 4.158, 4.2524999999999995]\n"
     ]
    }
   ],
   "source": [
    "#''' Create array of bond lengths in atomic units called r_array_au and fit PESs to splines in this cell! '''\n",
    "r_array_au = []\n",
    "for r in r_array:\n",
    "    r_array_au.append(r*1.89)\n",
    "print(r_array_au)\n",
    "\n",
    "### RHF Spline\n",
    "RHF_E_Spline = InterpolatedUnivariateSpline(r_array_au, RHF_E_array, k=3)\n",
    "### MP2 Spline\n",
    "MP2_E_Spline = InterpolatedUnivariateSpline(r_array_au, MP2_E_array, k=3)\n",
    "### CCSD Spline\n",
    "CCSD_E_Spline = InterpolatedUnivariateSpline(r_array_au, CCSD_E_array, k=3)"
   ]
  },
  {
   "cell_type": "markdown",
   "metadata": {},
   "source": [
    "Now we can plot the splines against the PES data to make sure our splines were generated properly."
   ]
  },
  {
   "cell_type": "code",
   "execution_count": 42,
   "metadata": {},
   "outputs": [
    {
     "data": {
      "image/png": "[encoded data removed]",
      "text/plain": [
       "<Figure size 432x288 with 1 Axes>"
      ]
     },
     "metadata": {
      "needs_background": "light"
     },
     "output_type": "display_data"
    },
    {
     "name": "stdout",
     "output_type": "stream",
     "text": [
      "-100.18692259104918\n"
     ]
    }
   ],
   "source": [
    "### form a much finer grid to evaluate spline object at\n",
    "r_fine = np.linspace(0.5*1.89,2.25*1.89,200)\n",
    "\n",
    "### compute the interpolated/extrapolated values for RHF Energy on this grid\n",
    "RHF_E_fine = RHF_E_Spline(r_fine)\n",
    "\n",
    "### compute the interpolated/extrapolated values for RHF Energy on this grid\n",
    "MP2_E_fine = MP2_E_Spline(r_fine)\n",
    "\n",
    "### compute the interpolated/extrapolated values for RHF Energy on this grid\n",
    "CCSD_E_fine = CCSD_E_Spline(r_fine)\n",
    "\n",
    "\n",
    "### plot the interpolated data with lines against computed data in *'s\n",
    "plt.plot(r_fine, RHF_E_fine, 'red', r_array_au, RHF_E_array, 'r*', label='RHF')\n",
    "plt.plot(r_fine, MP2_E_fine, 'green', r_array_au, MP2_E_array, 'g*', label='MP2')\n",
    "plt.plot(r_fine, CCSD_E_fine, 'blue', r_array_au, CCSD_E_array, 'b*', label='CCSD')\n",
    "plt.legend()\n",
    "plt.show()\n",
    "\n",
    "print(MP2_E_Spline(3.11))"
   ]
  },
  {
   "cell_type": "markdown",
   "metadata": {},
   "source": [
    "### Part 2:  Computation of Forces and related quantities and their importance in Newton's law\n",
    "We can derive a number of important quantities just from the potential energy surfaces we have computed.  For example, we estimate the equilibrium bond length by finding the separation at which the potential is minimum; note this would also be the position that the force goes to zero:\n",
    "\\begin{equation}\n",
    "\\frac{d}{dr} V(r_{eq}) = -F(r_{eq}) = 0.\n",
    "\\end{equation}\n",
    "\n",
    "The force as a function of separation plays a significant role in the vibrational motion of the molecule, as we will see shortly.  \n",
    "\n",
    "First we will compute the forces at each level of theory, storing them in new spline\n",
    "objects called RHF_Force, MP2_Force, and CCSD_Force. We can use the fact\n",
    "that the spline objects (which we previously created) can be directly differentiated using the following syntax:\n",
    "\n",
    "`spline_derivative = spline.derivative()`\n",
    "\n",
    "Once computed, plot each spline against the r_fine array previously created!\n",
    "#### What unit system do you think the forces are in?"
   ]
  },
  {
   "cell_type": "code",
   "execution_count": 43,
   "metadata": {},
   "outputs": [
    {
     "data": {
      "image/png": "[encoded data removed]",
      "text/plain": [
       "<Figure size 432x288 with 1 Axes>"
      ]
     },
     "metadata": {
      "needs_background": "light"
     },
     "output_type": "display_data"
    }
   ],
   "source": [
    "#''' Differentiate splines and plot resulting forces in this cell! '''\n",
    "RHF_Force_Spline = RHF_E_Spline.derivative()\n",
    "MP2_Force_Spline = MP2_E_Spline.derivative()\n",
    "CCSD_Force_Spline = CCSD_E_Spline.derivative()\n",
    "\n",
    "RHF_Force_fine = -1*RHF_Force_Spline(r_fine)\n",
    "MP2_Force_fine = -1*MP2_Force_Spline(r_fine)\n",
    "CCSD_Force_fine = -1*CCSD_Force_Spline(r_fine)\n",
    "\n",
    "plt.plot(r_fine, RHF_Force_fine, 'red', label='RHF Force')\n",
    "plt.plot(r_fine, MP2_Force_fine, 'green', label='MP2 Force')\n",
    "plt.plot(r_fine, CCSD_Force_fine, 'blue', label='CCSD Force')\n",
    "plt.legend()\n",
    "plt.show()"
   ]
  },
  {
   "cell_type": "markdown",
   "metadata": {},
   "source": [
    "#### Equilibrium bond length \n",
    "Next we will find where the minimum of the potential energy surfaces are and use that\n",
    "to find the equilibrium bond length, making use of numpy's argmin function to find the\n",
    "index corresponding to the minimum value in a numpy array:"
   ]
  },
  {
   "cell_type": "code",
   "execution_count": 44,
   "metadata": {},
   "outputs": [
    {
     "name": "stdout",
     "output_type": "stream",
     "text": [
      " Equilibrium bond length at RHF/cc-pVDZ level is  1.692927135678392 atomic units\n",
      " Equilibrium bond length at MP2/cc-pVDZ level is  1.7261683417085427 atomic units\n",
      " Equilibrium bond length at CCSD/cc-pVDZ level is  1.7261683417085427 atomic units\n",
      " RHF Req is  0.8957286432160805 Angstroms\n",
      " MP2 Req is  0.913316582914573 Angstroms\n",
      " CCSD Req is  0.913316582914573 Angstroms\n",
      "Reduced mass is 1744.1974999319154 atomic units\n"
     ]
    }
   ],
   "source": [
    "### Find Equilibrium Bond-Lengths for each level of theory\n",
    "RHF_Req_idx = np.argmin(RHF_E_fine)\n",
    "MP2_Req_idx = np.argmin(MP2_E_fine)\n",
    "CCSD_Req_idx = np.argmin(CCSD_E_fine)\n",
    "\n",
    "### find the value of the separation corresponding to that index\n",
    "RHF_Req = r_fine[RHF_Req_idx]\n",
    "MP2_Req = r_fine[MP2_Req_idx]\n",
    "CCSD_Req = r_fine[CCSD_Req_idx]\n",
    "\n",
    "### print equilibrium bond-lengths at each level of theory!\n",
    "print(\" Equilibrium bond length at RHF/cc-pVDZ level is \",RHF_Req, \"atomic units\")\n",
    "print(\" Equilibrium bond length at MP2/cc-pVDZ level is \",MP2_Req, \"atomic units\")\n",
    "print(\" Equilibrium bond length at CCSD/cc-pVDZ level is \",CCSD_Req, \"atomic units\")\n",
    "\n",
    "print(\" RHF Req is \", RHF_Req/1.89, \"Angstroms\")\n",
    "print(\" MP2 Req is \", MP2_Req/1.89, \"Angstroms\")\n",
    "print(\" CCSD Req is \", CCSD_Req/1.89, \"Angstroms\")\n",
    "\n",
    "### mass of hydrogen in atomic units\n",
    "mH = 1836\n",
    "### mass of flourine in atomic units\n",
    "mF = 34883    #change to chlorine mCl\n",
    "### reduced mass of HF   # need to change to reduced mass of HCl so change equation\n",
    "mu = (mH*mF)/(mH+mF)\n",
    "print(\"Reduced mass is\", mu, \"atomic units\")"
   ]
  },
  {
   "cell_type": "markdown",
   "metadata": {},
   "source": [
    "#### At this point, take a moment to compare your equilibrium bond length by level of theory.  Which equilibrium bond length do you expect to be most trustworthy?  Is it the case that this method produced the **best** equilibrium bond length in this case?  Note that the experimental bond length of HF is ~0.92 $\\overset{\\circ}{A}$.\n",
    "\n",
    "   "
   ]
  },
  {
   "cell_type": "markdown",
   "metadata": {},
   "source": [
    "#### Harmonic Frequency \n",
    "You might have learned that the Harmonic Oscillator potential, which is a reasonable model for the vibrational motion of diatomic molecules near their equilibrium bond length, is given by\n",
    "\\begin{equation}\n",
    "V(r) = \\frac{1}{2} k (r-r_{eq})^2 + V_0\n",
    "\\end{equation}\n",
    "and that the vibrational frequency of the molecule within the Harmonic oscillator model is given by\n",
    "\\begin{equation}\n",
    "\\nu = \\frac{1}{2\\pi}\\sqrt{\\frac{k}{\\mu}}\n",
    "\\end{equation}\n",
    "where $\\mu$ is the reduced mass of the molecule and $k$ is known as the force constant.  \n",
    "We can estimate the force constant as\n",
    "\\begin{equation}\n",
    "k = \\frac{d^2}{dr^2} V(r_{eq}),\n",
    "\\end{equation}\n",
    "and the reduced mass of HF is defined as\n",
    "\\begin{equation}\n",
    "\\mu = \\frac{m_H \\cdot m_F}{m_H + m_F},\n",
    "\\end{equation}\n",
    "where $m_H$ and $m_F$ are the masses of Hydrogen and Fluoride, respectively.\n",
    "\n",
    "Let's go ahead and get the force constants at each level of theory, print the values, \n",
    "and estimate the potential energy within the Harmonic approximation!  Just like we were able to differentiate our PES splines to get a force spline, we can differentiate a force splines to get curvature splines (which we can call RHF_Curvature, MP2_Curvature, and CCSD_Curvature); the force constant will then be the curvature evaluated at the equlibrium bond length.\n",
    "\n",
    "#### Can we use the same equilibrium bond length for all three curvatures?  Why or why not?"
   ]
  },
  {
   "cell_type": "code",
   "execution_count": 45,
   "metadata": {},
   "outputs": [
    {
     "name": "stdout",
     "output_type": "stream",
     "text": [
      "RHF Force Constant is 0.7376460564364274\n",
      "MP2 Force Constant is 0.6557128987725317\n",
      "CCSD Force Constant is 0.6527891479311799\n",
      "RHF Frequency is 0.0032730023286195384\n",
      "MP2 Frequency is 0.003085880934674279\n",
      "CCSD Frequency is 0.0030789934486332364\n",
      "Vibrational Energy at RHF level is 0.27979547676581573 eV\n",
      "Vibrational Energy at MP2 level is 0.2637992401685506 eV\n",
      "Vibrational Energy at CCSD level is 0.2632104573792074 eV\n"
     ]
    }
   ],
   "source": [
    "''' Differentiate force splines to get curvatures and determine force constants in this cell!'''\n",
    "RHF_Curvature_Spline = RHF_Force_Spline.derivative()\n",
    "MP2_Curvature_Spline = MP2_Force_Spline.derivative()\n",
    "CCSD_Curvature_Spline = CCSD_Force_Spline.derivative()\n",
    "\n",
    "### Force constant for RHF\n",
    "RHF_Force_Constant = RHF_Curvature_Spline(RHF_Req)\n",
    "###Force constant for MP2\n",
    "MP2_Force_Constant = MP2_Curvature_Spline(MP2_Req)\n",
    "###Force constant for CCSD\n",
    "CCSD_Force_Constant = CCSD_Curvature_Spline(CCSD_Req)\n",
    "\n",
    "print(\"RHF Force Constant is\", RHF_Force_Constant)\n",
    "print(\"MP2 Force Constant is\", MP2_Force_Constant)\n",
    "print(\"CCSD Force Constant is\", CCSD_Force_Constant)\n",
    "\n",
    "RHF_nu = 1/(2*np.pi) * np.sqrt(RHF_Force_Constant/mu)\n",
    "MP2_nu = 1/(2*np.pi) * np.sqrt(MP2_Force_Constant/mu)\n",
    "CCSD_nu = 1/(2*np.pi) * np.sqrt(CCSD_Force_Constant/mu)\n",
    "\n",
    "print(\"RHF Frequency is\", RHF_nu)\n",
    "print(\"MP2 Frequency is\", MP2_nu)\n",
    "print(\"CCSD Frequency is\", CCSD_nu)\n",
    "\n",
    "RHF_E_vib_ev = np.pi * RHF_nu * 27.211\n",
    "MP2_E_vib_ev = np.pi * MP2_nu * 27.211      #what is this number, does it need to change?\n",
    "CCSD_E_vib_ev = np.pi * CCSD_nu * 27.211\n",
    "\n",
    "print(\"Vibrational Energy at RHF level is\", RHF_E_vib_ev, \"eV\")\n",
    "print(\"Vibrational Energy at MP2 level is\", MP2_E_vib_ev, \"eV\")\n",
    "print(\"Vibrational Energy at CCSD level is\", CCSD_E_vib_ev, \"eV\")"
   ]
  },
  {
   "cell_type": "markdown",
   "metadata": {},
   "source": [
    "Now that we have the force constants, let's define three different arrays (RHF_Harm_Pot, MP2_Harm_Pot, and CCSD_Harm_Pot) that store the harmonic potentials at each level of theory evaluated at the different bond lengths (in atomic units) stored in the array r_fine; recall the definition of the Harmonic potential is \n",
    "\\begin{equation}\n",
    "V(r) = \\frac{1}{2} k (r-r_{eq})^2 + V_0,\n",
    "\\end{equation}\n",
    "where we can use $E(r_{eq})$ as $V_0$."
   ]
  },
  {
   "cell_type": "code",
   "execution_count": 46,
   "metadata": {},
   "outputs": [],
   "source": [
    "''' Create arrays of Harmonic potentials in this cell! '''\n",
    "RHF_Harm_Pot = 0.5*RHF_Force_Constant*(r_fine - RHF_Req)**2 + RHF_E_Spline(RHF_Req)\n",
    "MP2_Harm_Pot = 0.5*MP2_Force_Constant*(r_fine - MP2_Req)**2 + MP2_E_Spline(RHF_Req)\n",
    "CCSD_Harm_Pot = 0.5*CCSD_Force_Constant*(r_fine - CCSD_Req)**2 + CCSD_E_Spline(RHF_Req)"
   ]
  },
  {
   "cell_type": "markdown",
   "metadata": {},
   "source": [
    "Let's plot the resulting Harmonic potentials against the *ab* *initio* potentials near the equilibrium geometry"
   ]
  },
  {
   "cell_type": "code",
   "execution_count": 47,
   "metadata": {},
   "outputs": [
    {
     "data": {
      "image/png": "[encoded data removed]",
      "text/plain": [
       "<Figure size 432x288 with 1 Axes>"
      ]
     },
     "metadata": {
      "needs_background": "light"
     },
     "output_type": "display_data"
    }
   ],
   "source": [
    "### plot RHF harmonic potential vs RHF ab initio potential!\n",
    "plt.plot(r_fine, RHF_Harm_Pot, 'red', label='Harmonic')\n",
    "plt.plot(r_fine, RHF_E_fine, 'b--', label='ab initio' )\n",
    "### these limits were chosen to zoom in on region of the RHF PES that is approximately\n",
    "### harmonic\n",
    "plt.xlim(1.0, (1.69+0.69))\n",
    "plt.ylim(-100.1,-99.6)\n",
    "plt.legend()\n",
    "plt.show()"
   ]
  },
  {
   "cell_type": "markdown",
   "metadata": {},
   "source": [
    "Finally, let's actually estimate the fundamental vibrational frequency of the molecule \n",
    "within this model using the force constant and the reduced mass of the molecule.\n",
    "\n",
    "####  What is the reduced mass of the HF molecule in atomic units?\n",
    "\n",
    "#### Use your Harmonic force constants to estimate the vibrational frequency of HF and compare the values obtained from each level of theory.  Which frequency do you think should be the most trusthworthy?  Is it the case that this method produced the best frequency in this case?  Note that the experimental vibrational frequency of HF is 124 THz."
   ]
  },
  {
   "cell_type": "code",
   "execution_count": null,
   "metadata": {},
   "outputs": [],
   "source": [
    "''' Compute reduced mass of HF in atomic units and compute vibrational frequencies in atomic units in this cell!'''"
   ]
  },
  {
   "cell_type": "markdown",
   "metadata": {},
   "source": [
    "### Part 3: Solving Newton's equation of motion to simulate the dynamics\n",
    "Next, we want to actually simulate the dynamics of the HF molecule on these *ab* *initio* potential energy surfaces.  To do so, we need to solve Newton's equations of motion subject to some initial condition for the position (separation) and momentum (in a relative sense) of the particles.  Newton's equations can be written\n",
    "\\begin{equation}\n",
    "F(r) = \\mu \\frac{d^2}{dr^2}\n",
    "\\end{equation}\n",
    "where $\\mu$ is the reduced mass in atomic units and $F(r)$ is the Force vs separation in atomic units that was determined previously.  \n",
    "\n",
    "#### What will be the accelation of the bond stretch when H is separated by F by 3 atomic units?  You can express your acceleration in atomic units, also.\n",
    "\n"
   ]
  },
  {
   "cell_type": "code",
   "execution_count": null,
   "metadata": {},
   "outputs": [],
   "source": [
    "\"\"\" Compute acceleration at RHF, MP2, CCSD levels when HF is displaced by 3 atomic units in this cell! \"\"\""
   ]
  },
  {
   "cell_type": "markdown",
   "metadata": {},
   "source": [
    "#### Numerically solving Newton's equation of motion \n",
    "If the acceleration, position, and velocity of the bond stretch coordinate are known at some instant in \n",
    "time $t_i$, then the position and velocity can be estimated at some later time $t_{i+1} = t_i + \\Delta t$:\n",
    "\\begin{equation}\n",
    "r(t_i + \\Delta t) = r(t_i) + v(t_i)\\Delta t + \\frac{1}{2}a(t_i)\\Delta t^2\n",
    "\\end{equation}\n",
    "and\n",
    "\\begin{equation}\n",
    "v(t_i + \\Delta t) = v(t_i) + \\frac{1}{2} \\left(a(t_i) + a(t_i + \\Delta t)  \\right) \\Delta t.\n",
    "\\end{equation}\n",
    "This prescription for updating the velocities and positions is known as the Velocity-Verlet algorithm.  \n",
    "Note that we need to perform 2 force evaluations per Velocity-Verlet iteration: one corresponding\n",
    "to position $r(t_i)$ to update the position, and then a second time at the updated position $r(t_i + \\Delta t)$\n",
    "to complete the velocity update.  \n",
    "\n",
    "We will create a function called Velocity_Verlet that takes the arguments r_curr, v_curr, mu, force_spline, and timestep and returns a 2-element array containing the updated position (r) and velocity (v) value."
   ]
  },
  {
   "cell_type": "code",
   "execution_count": 56,
   "metadata": {},
   "outputs": [],
   "source": [
    "''' Velocity Verlet function goes in this cell! '''\n",
    "def Velocity_Verlet(r_curr, v_curr, mu, force_spline, dt):\n",
    "    ### define a variable called a_curr which is the acceleration at r_curr\n",
    "    a_curr = (-1)*(force_spline(r_curr))/mu\n",
    "    ### use v_curr and a_curr to update r_curr to r_new\n",
    "    r_new = (r_curr) + (v_curr*dt) + (1/2)*(a_curr)*(dt)**2\n",
    "    ### use r_new to update acceleration, store as a_new \n",
    "    a_new = (-1)*(force_spline(r_new))/mu\n",
    "    ### update velocity\n",
    "    v_new = (v_curr) + (1/2)*(a_curr+a_new)*(dt)\n",
    "    \n",
    "    return [r_new, v_new]"
   ]
  },
  {
   "cell_type": "markdown",
   "metadata": {},
   "source": [
    "### Validating Velocity-Verlet algorithm with the Harmonic Oscillator\n",
    "Newton's equation of motion can be solved analytically for the Harmonic oscillator, and we can use this fact to validate our Velocity-Verlet algorithm (which provides an *approximate* solution to Newton's equation of motion for arbitrary potentials).  That is,\n",
    "the vibrational motion of a diatomic subject to a Harmonic potential predicted \n",
    "by the Velocity-Verlet algorithm should closely match the analytical solution. Analytically, \n",
    "the bond length as a function of time for a diatomic experiencing a harmonic potential is given by\n",
    "\\begin{equation}\n",
    "r(t) = A \\: {\\rm sin}\\left(\\sqrt{\\frac{k}{\\mu}} t + \\phi \\right) + r_{eq},\n",
    "\\end{equation}\n",
    "where $A = \\frac{r(0)}{{\\rm sin}(\\phi)}$, $r(0)$ is the initial separation, and $\\phi$ is the initial phase of the cycle; note that corresponding to this initial separation is \n",
    "an initial velocity given by \n",
    "\\begin{equation}\n",
    "v(0) = A \\: \\sqrt{\\frac{k}{\\mu}} {\\rm cos}\\left( \\phi \\right).\n",
    "\\end{equation}\n",
    "\n",
    "Let's define a function harmonic_position that takes arguments of $\\sqrt{\\frac{k}{\\mu}}$ (om), $A$ (amp), $\\phi$ (phase), $r_{eq}$ (req), and time (t), and returns the separation. \n"
   ]
  },
  {
   "cell_type": "code",
   "execution_count": 58,
   "metadata": {},
   "outputs": [],
   "source": [
    "''' Analytic solution to Harmonic Oscillator r(t) goes here! '''\n",
    "def harmonic_position(om, amp, phase, req, t):\n",
    "    return amp * np.sin( om * t + phase ) + req"
   ]
  },
  {
   "cell_type": "markdown",
   "metadata": {},
   "source": [
    "The following code block will call the Velocity Verlet algorithm using \n",
    "the RHF Harmonic potential 10,000 times with a \n",
    "timestep of 0.1 atomic units per timestep and will compare the resulting trajectory of bond length vs time (all in atomic units) to the analytic result for the Harmonic oscillator; we will initiate the bond length as being 0.2 atomic units **longer** than $r_{eq}$ with an initial phase of $\\frac{\\pi}{4}$."
   ]
  },
  {
   "cell_type": "code",
   "execution_count": 61,
   "metadata": {},
   "outputs": [
    {
     "data": {
      "image/png": "[encoded data removed]",
      "text/plain": [
       "<Figure size 432x288 with 1 Axes>"
      ]
     },
     "metadata": {
      "needs_background": "light"
     },
     "output_type": "display_data"
    }
   ],
   "source": [
    "### how many updates do you want to perform?\n",
    "N_updates = 10000\n",
    "\n",
    "### establish time-step for integration to be 0.02 atomic units... this is about 0.0005 femtoseconds\n",
    "### so total time is 200000*0.02 atomic units of time which is ~9.6e-13 s, or 960 fs\n",
    "dt = 0.1\n",
    "\n",
    "### results from VV algorithm\n",
    "hr_vs_t = np.zeros(N_updates)\n",
    "hv_vs_t = np.zeros(N_updates)\n",
    "### analytic result for r(t)\n",
    "ar_vs_t = np.zeros(N_updates)\n",
    "### array to store time in atomic units\n",
    "t_array = np.zeros(N_updates)\n",
    "\n",
    "### establish some constants relevant for analytic solution\n",
    "### harmonic freq\n",
    "om = np.sqrt(RHF_Force_Constant/mu)\n",
    "### initial displacement \n",
    "x0 = 0.2\n",
    "### amplitude for analytic solution\n",
    "Amp = x0/(np.sin(np.pi/4))\n",
    "### initial velocity\n",
    "v0 = Amp * om * np.cos(np.pi/4)\n",
    "\n",
    "hr_vs_t[0] = RHF_Req+x0\n",
    "hv_vs_t[0] = v0\n",
    "\n",
    "### We need a spline object for the harmonic force to pass to the Velocity Verlet algorithm,\n",
    "### let's get that now!\n",
    "\n",
    "### spline for Harmonic potential using RHF_k\n",
    "RHF_Harm_Pot_Spline = InterpolatedUnivariateSpline(r_fine, RHF_Harm_Pot, k=3)\n",
    "### RHF harmonic force\n",
    "RHF_Harm_Force = RHF_Harm_Pot_Spline.derivative()\n",
    "\n",
    "\n",
    "### first Velocity Verlet update\n",
    "result_array = Velocity_Verlet(hr_vs_t[0], hv_vs_t[0], mu, RHF_Force_Spline, dt)\n",
    "### first analytic result\n",
    "ar_vs_t[0] = harmonic_position(om, Amp, np.pi/4, RHF_Req, 0)\n",
    "### do the update N_update-1 more times\n",
    "for i in range(1,N_updates):\n",
    "    ### store current time\n",
    "    t_array[i] = dt*i\n",
    "    ### Compute VV update\n",
    "    result_array = Velocity_Verlet(result_array[0], result_array[1], mu, RHF_Force_Spline, dt)\n",
    "    ### store results from VV update\n",
    "    hr_vs_t[i] = result_array[0]\n",
    "    hv_vs_t[i] = result_array[1]\n",
    "    ### compute and store results from analytic solution\n",
    "    ar_vs_t[i] = harmonic_position(om, Amp, np.pi/4, RHF_Req, dt*i)\n",
    "\n",
    "### Plot result and compare!\n",
    "plt.plot(t_array, hr_vs_t, 'red', label=\"Velocity Verlet\")\n",
    "plt.plot(t_array, ar_vs_t, 'b--', label=\"Analytic\")\n",
    "plt.legend()\n",
    "plt.show()\n"
   ]
  },
  {
   "cell_type": "markdown",
   "metadata": {},
   "source": [
    "Now let's simulate the vibrational motion of HF subject to the *ab* *initio* forces we computed earlier and compare them to the Harmonic motion; recall we have already obtained spline objects for RHF, MP2, and CCSD forces called RHF_Force, MP2_Force, and CCSD_Force.\n",
    "We will also initialize the simulations using the same values as we did with the Harmonic case to aid our comparison."
   ]
  },
  {
   "cell_type": "code",
   "execution_count": null,
   "metadata": {},
   "outputs": [],
   "source": [
    "\"\"\" Create new arrays for r(t) and v(t) for HF subject to ab initio forces and \n",
    "    run velocity verlet N_updates times, plot results against harmonic results from\n",
    "    previous cell! \"\"\""
   ]
  },
  {
   "cell_type": "markdown",
   "metadata": {},
   "source": [
    "#### How are the dynamics different when the *ab* *initio* forces are used?  Try to identify at least two quantitative ways in which you can distinguish the harmonic motion from the motion deriving from the *ab* *initio* forces.  \n",
    "\n",
    "#### Can you estimate the frequency from the *ab* *initio* trajectories?  How does this frequency compare with the Harmonic approximation and with the experimental value?\n",
    "\n",
    "### For further consideration: What makes a \"sensible range of values\" for position and velocity?\n",
    "\n",
    "In this case, we will initialize the position to be a random number between 1.0 and 4.0; for the velocity, we will use the fact that we can estimate the expectation value of kinetic energy for a very similar system (the Harmonic oscillator) in the ground state as follows:\n",
    "\\begin{equation}\n",
    "\\langle T \\rangle = \\frac{1}{2} E_g,\n",
    "\\end{equation}\n",
    "where $E_g$ is the ground state of the Harmonic oscillator (this is making use of the Virial theorem).  We can easily\n",
    "find the ground state energy in the Harmonic oscillator approximation of $HF$ using our frequency calculation described above as\n",
    "\\begin{equation}\n",
    "E_g = \\frac{1}{2} h \\nu,\n",
    "\\end{equation}\n",
    "which implies the kinetic energy expectation value is\n",
    "\\begin{equation}\n",
    "\\langle T \\rangle = \\frac{h}{8 \\pi} \\sqrt{\\frac{k}{\\mu}}.\n",
    "\\end{equation}\n",
    "Since we can say classically that the kinetic energy is given by $T = \\frac{1}{2}\\mu v^2$, we can estimate the velocity of the bond stretch as follows:\n",
    "\\begin{equation}\n",
    "v = \\sqrt{\\frac{2 \\langle T \\rangle}{\\mu}} = \\sqrt{ \\frac{\\hbar \\sqrt{\\frac{k}{\\mu}}}{2\\mu}}\n",
    "\\end{equation}\n",
    "where we have simplified using the fact that $\\hbar = \\frac{h}{2\\pi}$ ($\\hbar$ has the value 1 in the atomic unit system we are using up to this point!).  We will assume that a reasonable\n",
    "range of velocities spans plus or minus 3 times this \"ground-state\" velocity.\n"
   ]
  },
  {
   "cell_type": "code",
   "execution_count": null,
   "metadata": {},
   "outputs": [],
   "source": [
    "### define \"ground-state\" velocity for each level of theory\n",
    "v_RHF = np.sqrt( np.sqrt(RHF_k/mu)/(2*mu))\n",
    "v_MP2 = np.sqrt( np.sqrt(MP2_k/mu)/(2*mu))\n",
    "v_CCSD = np.sqrt( np.sqrt(CCSD_k/mu)/(2*mu))\n",
    "\n",
    "\n",
    "### get random position and velocity for RHF HF within a reasonable range\n",
    "#r_init = np.random.uniform(0.75*RHF_Req,2*RHF_Req)\n",
    "r_init = RHF_Req\n",
    "v_init = np.random.uniform(-2*v_RHF,2*v_RHF)\n",
    "\n",
    "### print initial position and velocity\n",
    "print(\"Initial separation is \",r_init, \"atomic units\")\n",
    "print(\"Initial velocity is   \",v_init, \"atomic units\")\n",
    "\n",
    "\n",
    "### get initial force on the particle based on its separation\n",
    "RHF_F_init = -1*RHF_Force(r_init)\n",
    "print(\"Initial Force is \", RHF_F_init, \"atomic units\")\n"
   ]
  },
  {
   "cell_type": "markdown",
   "metadata": {},
   "source": []
  }
 ],
 "metadata": {
  "kernelspec": {
   "display_name": "Python 3",
   "language": "python",
   "name": "python3"
  },
  "language_info": {
   "codemirror_mode": {
    "name": "ipython",
    "version": 3
   },
   "file_extension": ".py",
   "mimetype": "text/x-python",
   "name": "python",
   "nbconvert_exporter": "python",
   "pygments_lexer": "ipython3",
   "version": "3.7.3"
  }
 },
 "nbformat": 4,
 "nbformat_minor": 2
}
